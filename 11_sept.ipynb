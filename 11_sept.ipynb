{
  "nbformat": 4,
  "nbformat_minor": 0,
  "metadata": {
    "colab": {
      "provenance": [],
      "authorship_tag": "ABX9TyPo6vKq+iDLydOzhUKi6RWm",
      "include_colab_link": true
    },
    "kernelspec": {
      "name": "python3",
      "display_name": "Python 3"
    },
    "language_info": {
      "name": "python"
    }
  },
  "cells": [
    {
      "cell_type": "markdown",
      "metadata": {
        "id": "view-in-github",
        "colab_type": "text"
      },
      "source": [
        "<a href=\"https://colab.research.google.com/github/abhinav160/python-programs/blob/main/11_sept.ipynb\" target=\"_parent\"><img src=\"https://colab.research.google.com/assets/colab-badge.svg\" alt=\"Open In Colab\"/></a>"
      ]
    },
    {
      "cell_type": "code",
      "execution_count": 1,
      "metadata": {
        "colab": {
          "base_uri": "https://localhost:8080/"
        },
        "id": "k2OKMLTQgo1H",
        "outputId": "7383cad5-a20c-4451-9bf9-986380e64ce1"
      },
      "outputs": [
        {
          "output_type": "stream",
          "name": "stdout",
          "text": [
            "Enter a list of SAP IDs (separated by commas): 59005547\n",
            "Email addresses:\n",
            "59005547@stu.upes.ac.in\n"
          ]
        }
      ],
      "source": [
        "# Write a program that takes list of SAP IDs and returns a list of email addresses\n",
        " #without using map filter and lists\n",
        "\n",
        "def sap_ids_to_email_addresses():\n",
        "    sap_ids = input(\"Enter a list of SAP IDs (separated by commas): \")\n",
        "    sap_ids = [sap_id.strip() for sap_id in sap_ids.split(\",\")]\n",
        "    email_addresses = []\n",
        "    for sap_id in sap_ids:\n",
        "        email_address = f\"{sap_id}@stu.upes.ac.in\"\n",
        "        email_addresses.append(email_address)\n",
        "    print(\"Email addresses:\")\n",
        "    for email_address in email_addresses:\n",
        "        print(email_address)\n",
        "\n",
        "# Call the function\n",
        "sap_ids_to_email_addresses()"
      ]
    },
    {
      "cell_type": "code",
      "source": [
        "#with using map, filter lambda and without list comprehension\n",
        "\n",
        "def sap_ids_to_email_addresses():\n",
        "    sap_ids = input(\"Enter a list of SAP IDs (separated by commas): \")\n",
        "    sap_ids = list(filter(None, map(str.strip, sap_ids.split(\",\"))))\n",
        "    email_addresses = list(map(lambda sap_id: f\"{sap_id}@stu.upes.ac.in\", sap_ids))\n",
        "    print(\"Email addresses:\")\n",
        "    for email_address in email_addresses:\n",
        "        print(email_address)\n",
        "\n",
        "# Call the function\n",
        "sap_ids_to_email_addresses()"
      ],
      "metadata": {
        "colab": {
          "base_uri": "https://localhost:8080/"
        },
        "id": "mmioJyERg_ZF",
        "outputId": "37fb775a-5499-4bb9-e17a-267b523f63ab"
      },
      "execution_count": 2,
      "outputs": [
        {
          "output_type": "stream",
          "name": "stdout",
          "text": [
            "Enter a list of SAP IDs (separated by commas): 5566, 778, 995\n",
            "Email addresses:\n",
            "5566@stu.upes.ac.in\n",
            "778@stu.upes.ac.in\n",
            "995@stu.upes.ac.in\n"
          ]
        }
      ]
    },
    {
      "cell_type": "code",
      "source": [
        "#using list comprehension\n",
        "\n",
        "# Get the list of SAP IDs from the user\n",
        "sap_ids = input(\"Enter a list of SAP IDs separated by space: \").split()\n",
        "\n",
        "# Get the domain name from the user\n",
        "domain_name = input(\"Enter the domain name: \")\n",
        "\n",
        "# Use list comprehension to create a list of email addresses\n",
        "email_addresses = [f\"{sap_id}@{domain_name}\" for sap_id in sap_ids]\n",
        "\n",
        "# Print the list of email addresses\n",
        "print(email_addresses)"
      ],
      "metadata": {
        "colab": {
          "base_uri": "https://localhost:8080/"
        },
        "id": "5PkU2SubhJbX",
        "outputId": "5af5d92a-d187-471a-d69c-019e088a3fe0"
      },
      "execution_count": 4,
      "outputs": [
        {
          "output_type": "stream",
          "name": "stdout",
          "text": [
            "Enter a list of SAP IDs separated by space: 5502 6695 7713\n",
            "Enter the domain name: upes.com\n",
            "['5502@upes.com', '6695@upes.com', '7713@upes.com']\n"
          ]
        }
      ]
    }
  ]
}