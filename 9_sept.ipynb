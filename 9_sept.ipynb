{
  "nbformat": 4,
  "nbformat_minor": 0,
  "metadata": {
    "colab": {
      "provenance": [],
      "authorship_tag": "ABX9TyM/Wl0GCXztgAYbC9YF2VQY",
      "include_colab_link": true
    },
    "kernelspec": {
      "name": "python3",
      "display_name": "Python 3"
    },
    "language_info": {
      "name": "python"
    }
  },
  "cells": [
    {
      "cell_type": "markdown",
      "metadata": {
        "id": "view-in-github",
        "colab_type": "text"
      },
      "source": [
        "<a href=\"https://colab.research.google.com/github/abhinav160/python-programs/blob/main/9_sept.ipynb\" target=\"_parent\"><img src=\"https://colab.research.google.com/assets/colab-badge.svg\" alt=\"Open In Colab\"/></a>"
      ]
    },
    {
      "cell_type": "code",
      "execution_count": 1,
      "metadata": {
        "colab": {
          "base_uri": "https://localhost:8080/"
        },
        "id": "V9Koy2D7Tu7L",
        "outputId": "4e48350c-dd8f-41aa-d15a-472f537fe69a"
      },
      "outputs": [
        {
          "output_type": "stream",
          "name": "stdout",
          "text": [
            "Current time:  2024-09-12 17:39:25.534997\n",
            "Current time after 2 seconds:  2024-09-12 17:39:27.541024\n"
          ]
        }
      ],
      "source": [
        "# write a program that dsiplays current time and pause for 2 sec and display cuurent time againS\n",
        "import datetime\n",
        "import time\n",
        "\n",
        "# Get the current time\n",
        "current_time = datetime.datetime.now()\n",
        "print(\"Current time: \", current_time)\n",
        "\n",
        "# Pause for 2 seconds\n",
        "time.sleep(2)\n",
        "\n",
        "# Get the current time again\n",
        "current_time = datetime.datetime.now()\n",
        "print(\"Current time after 2 seconds: \", current_time)"
      ]
    }
  ]
}